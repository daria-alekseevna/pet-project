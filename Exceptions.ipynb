{
 "cells": [
  {
   "cell_type": "markdown",
   "metadata": {
    "colab_type": "text",
    "id": "c2KtXmjxtgw-"
   },
   "source": [
    "# Исключения\n"
   ]
  },
  {
   "cell_type": "markdown",
   "metadata": {
    "colab_type": "text",
    "id": "geX0-Zq6tgxU"
   },
   "source": [
    "### Задание\n",
    "\n",
    "Есть файл с протоколом регистраций пользователей на сайте (registrations.txt).<br>\n",
    "Каждая строка содержит информацию о имени, электронной почте и возрасте человека. <br><br>\n",
    "\n",
    "\n",
    "Надо проверить данные из файла, для каждой строки:\n",
    " - присутсвуют все три поля\n",
    " - поле имени содержит только буквы\n",
    " - поле email содержит @ и .\n",
    " - поле возраст является числом от 10 до 99<br>\n",
    "\n",
    "В результате проверки нужно сформировать два файла\n",
    " - registrations_good.log для правильных данных, записывать строки как есть\n",
    "- registrations_bad.log для ошибочных, записывать строку и вид ошибки.<br>\n",
    "\n",
    "Для валидации строки данных написать метод, который может выкидывать исключения:\n",
    " - НЕ присутсвуют все три поля: ValueError\n",
    " - поле имени содержит НЕ только буквы: NotNameError (кастомное исключение)\n",
    " - поле email НЕ содержит @ и .(точку): NotEmailError (кастомное исключение)\n",
    " - поле возраст НЕ является числом от 10 до 99: ValueError\n",
    "Вызов метода обернуть в try-except."
   ]
  },
  {
   "cell_type": "code",
   "execution_count": 3,
   "metadata": {
    "colab": {},
    "colab_type": "code",
    "id": "Eq2Ax0LntgxW"
   },
   "outputs": [],
   "source": [
    "class NotNameError(Exception):\n",
    "    pass\n",
    "class NotEmailError(Exception):\n",
    "    pass\n",
    "\n",
    "def registration(line):\n",
    "    name, email, age = line.split(\" \")\n",
    "\n",
    "    if name.isalpha() is not True:\n",
    "        raise NotNameError('Unknown name')\n",
    "    if \"@\"  and \".\" in email:\n",
    "        pass\n",
    "    else:\n",
    "        raise NotEmailError('Unknown email')\n",
    "    if age in range(10,100) is not True:\n",
    "        raise ValueError('Unknown age')\n",
    "\n",
    "\n",
    "with open('registrations_.txt', encoding=\"utf-8\") as ff:\n",
    "    for line in ff:\n",
    "        try:\n",
    "            registration(line)\n",
    "            with open('registrations_good.log.txt','a') as ouf:\n",
    "                ouf.write(line + '\\n')\n",
    "        except ValueError as exc:\n",
    "            if 'unpack' in exc.args[0]:\n",
    "                with open('registrations_bad.log.txt', 'a') as ouf:\n",
    "                    ouf.write(f'не все три поля присутствуют {exc} в строке {line}')\n",
    "            else:\n",
    "                with open('registrations_bad.log.txt', 'a') as ouf:\n",
    "                    ouf.write(f'Несуществующий возраст {exc} в строке {line}')\n",
    "        except NotNameError as exc:\n",
    "            with open('registrations_bad.log.txt', 'a') as ouf:\n",
    "                ouf.write(f'несуществующие имя {exc} в строке {line}')\n",
    "        except NotEmailError as exc:\n",
    "                with open('registrations_bad.log.txt', 'a') as ouf:\n",
    "                    ouf.write(f'несуществующий email {exc} в строке {line}')\n"
   ]
  },
  {
   "cell_type": "code",
   "execution_count": null,
   "metadata": {},
   "outputs": [],
   "source": []
  }
 ],
 "metadata": {
  "colab": {
   "name": "jun_anl_exeptions.ipynb",
   "provenance": [],
   "version": "0.3.2"
  },
  "kernelspec": {
   "display_name": "Python 3",
   "language": "python",
   "name": "python3"
  },
  "language_info": {
   "codemirror_mode": {
    "name": "ipython",
    "version": 3
   },
   "file_extension": ".py",
   "mimetype": "text/x-python",
   "name": "python",
   "nbconvert_exporter": "python",
   "pygments_lexer": "ipython3",
   "version": "3.7.4"
  }
 },
 "nbformat": 4,
 "nbformat_minor": 1
}
